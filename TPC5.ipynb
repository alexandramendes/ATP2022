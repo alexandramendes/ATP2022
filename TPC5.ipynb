{
 "cells": [
  {
   "cell_type": "code",
   "execution_count": null,
   "metadata": {},
   "outputs": [],
   "source": [
    "import csv\n",
    "tabela = []\n",
    "\n",
    "def lerinformaçao():\n",
    "    ficheiro = open(\"myheart.csv\",mode = \"r\")\n",
    "    inftabela = csv.reader(ficheiro)\n",
    "    inftabela = ficheiro.split(\",\")\n",
    "    nlinha = 0\n",
    "    for linha in inftabela:\n",
    "        if nlinha == 0:\n",
    "            nlinha = nlinha + 1\n",
    "        else:\n",
    "            tabela.append((int(linha[0]),linha[1],int(linha[2]),int(linha[3]),int(linha[4]),int(linha[5])))\n",
    "\n",
    "def distribuiçaosexo():\n",
    "    lerinformaçao()\n",
    "    contadorM = 0\n",
    "    contadorF = 0\n",
    "    for t in tabela:\n",
    "        idade, sexo, tensao, colestrol, batimentos, tend = t\n",
    "        if tend == 1 and sexo == \"M\":\n",
    "            contador = contador + 1\n",
    "        elif tend == 1 and sexo == \"F\":\n",
    "            contador = contador + 1\n",
    "    print(\"Contagem Masculina:\", contadorM)\n",
    "    print(\"Contagem Feminina:\", contadorF)\n",
    "\n",
    "def distribuiçaoidade():\n",
    "    lerinformaçao()\n",
    "    escaloes = [[20,24],[25,29],[30,34],[35,39],[40,44],[45,49],[50,54],[55,59],[60,64],[65,69],[70,74],[75,79],[80,84],[85,89]]\n",
    "    lista = []\n",
    "    for t in tabela:\n",
    "        idade, sexo, tensao, colestrol, batimento, tend = t\n",
    "        for escalao in escaloes:\n",
    "            if tend == 1 and idade >= escalao[0] and idade <= escalao[1]:\n",
    "                lista.append(escalao)\n",
    "    for escalao in escaloes:\n",
    "        print(\"Escalao\",escalao,\"tem:\",lista.count(escalao),\"pessoas\")\n",
    "\n",
    "def distribuiçaocolestrol():\n",
    "    lerinformaçao()\n",
    "    lista = []\n",
    "    nivelcolest = [[0,10],[100,110],[110,120],[120,130],[130,140],[140,150],[150,160],[160,170],[170,180],[180,190],[190,200],[200,210],[210,220],[220,230],[230,240],[240,250],[250,260],[260,270],[270,280],[280,290],[290,300],[300,310],[310,320],[320,330],[330,340],[340,350],[350,360],[360,370],[370,380],[380,390],[390,400],[400,410],[410,420],[420,430],[430,440],[440,450],[450,460],[460,470],[470,480],[480,490],[490,500],[500,510],[510,520],[520,530],[530,540],[540,550],[550,560],[560,570],[570,580],[580,590],[590,600],[600,610],[610,620]]\n",
    "    for t in tabela:\n",
    "        idade, sexo, tensao, colestrol, batimento, tend = t\n",
    "        for nivel in nivelcolest:\n",
    "            print(\"Nivel\",nivel,\"tem:\", lista.count(nivel),\"pessoas\")\n",
    "\n",
    "def menu():\n",
    "    opçao = int(input(\"Introduza um número entre 1 e 4\"))\n",
    "    if opçao == 1:\n",
    "        lerinformaçao()\n",
    "    elif opçao == 2:\n",
    "        distribuiçaosexo()\n",
    "    elif opçao == 3:\n",
    "        distribuiçaoidade()\n",
    "    elif opçao == 4:\n",
    "        distribuiçaocolestrol()\n",
    "menu()\n",
    "\n",
    "\n"
   ]
  }
 ],
 "metadata": {
  "kernelspec": {
   "display_name": "Python 3.10.7 64-bit",
   "language": "python",
   "name": "python3"
  },
  "language_info": {
   "codemirror_mode": {
    "name": "ipython",
    "version": 3
   },
   "file_extension": ".py",
   "mimetype": "text/x-python",
   "name": "python",
   "nbconvert_exporter": "python",
   "pygments_lexer": "ipython3",
   "version": "3.10.7"
  },
  "orig_nbformat": 4,
  "vscode": {
   "interpreter": {
    "hash": "db580031ff1017c5155e817cf613da525792867ef294bb5b65e6030fd7764022"
   }
  }
 },
 "nbformat": 4,
 "nbformat_minor": 2
}
