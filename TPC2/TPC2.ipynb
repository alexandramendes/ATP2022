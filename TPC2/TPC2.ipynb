{
 "cells": [
  {
   "cell_type": "code",
   "execution_count": null,
   "metadata": {},
   "outputs": [],
   "source": [
    "import random\n",
    "print(\"Advinha o numero!\")\n",
    "print(\"Selecione 1 se pretende advinhar\")\n",
    "print(\"Selecione 2 se pretende selecionar um numero\")\n",
    "n = int(input(\"Selecione 1 se pretende advinhar \\n selecione 2 se pretende selecionar um numero\"))\n",
    "if n == 1:\n",
    "        resposta = computador()\n",
    "        tentativa = 0\n",
    "        print(\"O numero já foi escolhido!\")\n",
    "        palpite = 0\n",
    "        while palpite is not resposta:\n",
    "            tentativa = tentativa + 1\n",
    "            palpite = int(input(\"Qual é o seu palpite?\"))\n",
    "            if palpite > resposta:\n",
    "                print(\"O numero que pensei é menor!\")\n",
    "            elif palpite < resposta:\n",
    "                print(\"O numero que pensei é maior!\")\n",
    "            else:\n",
    "                print(\"Parabéns! O numero gerado foi\",resposta, \"\\nAcertou em\", tentativa, \"tentativas!\")\n",
    "   \n",
    "\n",
    "\n",
    "if n==2:\n",
    "    pcescolha = int(input(\"Escolhe um numero entre 0 e 100\"))\n",
    "    pcchoice = random.randint(0,100)\n",
    "    pctentativas = 0\n",
    "    print(\"O numero que escolhi foi o {}, é maior ou menor do que o numero escolhido?\".format(pcchoice))\n",
    "    while pcescolha != pcchoice:\n",
    "        pctentativas += 1\n",
    "        liminf = 0\n",
    "        limsup = 100\n",
    "        pcchoice = random.randint(0,100)\n",
    "        if pcchoice > pcescolha:\n",
    "            print(\"O numero que pensei é menor!\")\n",
    "            limsup = pcchoice\n",
    "            pcchoice = random.randint(liminf,limsup)\n",
    "        elif pcchoice < pcescolha:\n",
    "            print(\"O numero que pensei é maior!\")\n",
    "            liminf = pcchoice\n",
    "            pcchoice = random.randint(liminf,limsup)\n",
    "        else:\n",
    "            print(\"Parabéns! O numero gerado foi\",pcescolha, \"\\nAcertou em\", pctentativas, \"tentativas!\")\n"
   ]
  }
 ],
 "metadata": {
  "kernelspec": {
   "display_name": "Python 3.10.7 64-bit",
   "language": "python",
   "name": "python3"
  },
  "language_info": {
   "name": "python",
   "version": "3.10.7"
  },
  "orig_nbformat": 4,
  "vscode": {
   "interpreter": {
    "hash": "db580031ff1017c5155e817cf613da525792867ef294bb5b65e6030fd7764022"
   }
  }
 },
 "nbformat": 4,
 "nbformat_minor": 2
}
