{
 "cells": [
  {
   "cell_type": "code",
   "execution_count": 2,
   "metadata": {},
   "outputs": [
    {
     "data": {
      "text/plain": [
       "4"
      ]
     },
     "execution_count": 2,
     "metadata": {},
     "output_type": "execute_result"
    }
   ],
   "source": [
    "#tpc1.a)\n",
    "\n",
    "def inicDiferente(s1, s2):\n",
    "    res = 0\n",
    "    n = 0\n",
    "    string1 = []\n",
    "    string2 = []\n",
    "    for caract in s1:\n",
    "        string1.append(caract) \n",
    "    for caract in s2:\n",
    "        string2.append(caract)\n",
    "    while string1[n] != string2[n]:\n",
    "        res = res + 1\n",
    "        n = n + 1\n",
    "    return res\n",
    "\n",
    "inicDiferente(\"Está um bom dia...\", \"Hoje é um dia alegre.\")\n",
    "# resultado esperado: 4"
   ]
  },
  {
   "cell_type": "code",
   "execution_count": 17,
   "metadata": {},
   "outputs": [
    {
     "data": {
      "text/plain": [
       "3"
      ]
     },
     "execution_count": 17,
     "metadata": {},
     "output_type": "execute_result"
    }
   ],
   "source": [
    "#tpc1.b)\n",
    "\n",
    "def acimaMedia(n):\n",
    "    res = 0\n",
    "    lista = []\n",
    "    listasup = []\n",
    "    i = 0\n",
    "    media = 0\n",
    "    while i < n:\n",
    "        num = int(input(\"Escolhe os números que queres!\"))\n",
    "        lista.append(num)\n",
    "        i = i + 1\n",
    "        res = num + res\n",
    "    media = res / len(lista)\n",
    "    for elem in lista:\n",
    "        if elem > media:\n",
    "            listasup.append(elem)\n",
    "    return len(listasup)\n",
    "\n",
    "acimaMedia(5)"
   ]
  },
  {
   "cell_type": "code",
   "execution_count": 19,
   "metadata": {},
   "outputs": [
    {
     "data": {
      "text/plain": [
       "[1, 2, 3, 4, 6, 7, 9, 12]"
      ]
     },
     "execution_count": 19,
     "metadata": {},
     "output_type": "execute_result"
    }
   ],
   "source": [
    "#tpc1.c)\n",
    "\n",
    "def merge(l1, l2):\n",
    "    lista = l1 + l2\n",
    "    r = len(lista)\n",
    "    listaOrdenada = []\n",
    "    while len(listaOrdenada) < r:\n",
    "        menor = lista[0]\n",
    "        for elem in lista[1:]:\n",
    "            if elem < menor:\n",
    "                menor = elem\n",
    "        listaOrdenada.append(menor)\n",
    "        lista.remove(menor)\n",
    "    return listaOrdenada \n",
    "    \n",
    "merge([1,2,6,9], [3,4,7,12])\n",
    "# Resultado esperado: [1,2,3,4,6,7,9,12]"
   ]
  },
  {
   "cell_type": "code",
   "execution_count": 20,
   "metadata": {},
   "outputs": [],
   "source": [
    "#tpc1.d)\n",
    "\n",
    "def figuais(f1, f2):\n",
    "    texto1 = open(f1, encoding = 'utf-8')\n",
    "    texto2 = open(f2, encoding = 'utf-8')\n",
    "    listatexto1 = []\n",
    "    listatexto2 = []\n",
    "    n = 0\n",
    "    aux = True\n",
    "    for linha in texto1:\n",
    "        listatexto1.append(linha)\n",
    "    for linha2 in texto2:\n",
    "        listatexto2.append(linha2)\n",
    "    while n < len(listatexto1):\n",
    "            if listatexto1[n] != listatexto2[n]:\n",
    "                return False\n",
    "            n = n + 1 \n",
    "    return aux\n",
    "\n",
    "#print(figuais(\"texto1.txt\", \"texto1.txt\"))\n",
    "#print(figuais(\"texto1.txt\", \"texto2.txt\"))"
   ]
  },
  {
   "cell_type": "code",
   "execution_count": 21,
   "metadata": {},
   "outputs": [
    {
     "name": "stdout",
     "output_type": "stream",
     "text": [
      "['Ben Stiller', 'Billy Crystal', 'Blythe Danner', 'Charlize Theron', 'Cuba Gooding, Jr.', 'Lisa Kudrow', 'Owen Wilson', 'Robert De Niro', 'Teri Polo']\n"
     ]
    }
   ],
   "source": [
    "#Exercício 2\n",
    "\n",
    "Filme1 = (\"Meet the Parents\", 2000, [\"Ben Stiller\",\"Robert De Niro\",\n",
    "      \"Blythe Danner\",\"Teri Polo\",\"Owen Wilson\"], [\"Comedy\", \"Drama\"])\n",
    "Filme2 = (\"Men of Honor\", 2000, [\"Robert De Niro\",\"Cuba Gooding, Jr.\",\n",
    "      \"Charlize Theron\"], [\"Biography\", \"Drama\", \"Thriller\"])\n",
    "Filme3 = (\"Analyze That\", 2002, [\"Robert De Niro\",\"Billy Crystal\",\n",
    "      \"Lisa Kudrow\"], [\"Comedy\"])\n",
    "CineUM = [Filme1, Filme2, Filme3]\n",
    "\n",
    "#tpc2.a)\n",
    "\n",
    "def atores(cinemateca):\n",
    "    listaAtores = []\n",
    "    for filme in cinemateca:\n",
    "        titulos, ano, elenco, generos = filme\n",
    "        for ator in elenco:\n",
    "            if ator not in listaAtores:\n",
    "                listaAtores.append(ator)\n",
    "    listaAtores.sort() \n",
    "    return listaAtores\n",
    "\n",
    "print(atores(CineUM))\n",
    "# Resultado esperado: ['Ben Stiller', 'Billy Crystal', 'Blythe Danner', 'Charlize Theron', 'Cuba Gooding, Jr.', 'Lisa Kudrow', 'Owen Wilson', 'Robert De Niro', 'Teri Polo']"
   ]
  },
  {
   "cell_type": "code",
   "execution_count": 24,
   "metadata": {},
   "outputs": [
    {
     "name": "stdout",
     "output_type": "stream",
     "text": [
      "['Analyze That', 'Meet the Parents']\n"
     ]
    }
   ],
   "source": [
    "#tpc2.b)\n",
    "\n",
    "def listarPorGenero(cinemateca, genero):\n",
    "    listaTítulosGenero = []\n",
    "    for filme in cinemateca:\n",
    "        titulos, ano, elenco, generos = filme\n",
    "        if genero in generos:\n",
    "            listaTítulosGenero.append(titulos)\n",
    "    listaTítulosGenero.sort()\n",
    "    return listaTítulosGenero\n",
    "\n",
    "print(listarPorGenero(CineUM, \"Comedy\"))\n",
    "# Resultado esperado: ['Analyze That', 'Meet the Parents']"
   ]
  },
  {
   "cell_type": "code",
   "execution_count": 25,
   "metadata": {},
   "outputs": [
    {
     "name": "stdout",
     "output_type": "stream",
     "text": [
      "Meet the Parents\n"
     ]
    }
   ],
   "source": [
    "#tpc2.c)\n",
    "\n",
    "def maiorElenco( cinemateca ):\n",
    "    numAtores = 0\n",
    "    for filme in cinemateca:\n",
    "        titulos, ano, elenco, generos = filme\n",
    "        numAtoresAux = len(elenco)\n",
    "        if numAtoresAux >= numAtores:\n",
    "            numAtores = numAtoresAux\n",
    "            maiorFilme = titulos\n",
    "\n",
    "    return maiorFilme\n",
    "\n",
    "print(maiorElenco(CineUM))\n",
    "# Resultado esperado: Meet the Parents"
   ]
  },
  {
   "cell_type": "code",
   "execution_count": 26,
   "metadata": {},
   "outputs": [
    {
     "name": "stdout",
     "output_type": "stream",
     "text": [
      "{'Comedy': 2, 'Drama': 2, 'Biography': 1, 'Thriller': 1}\n"
     ]
    }
   ],
   "source": [
    "#tpc2.d)\n",
    "\n",
    "def filmePorGenero( cinemateca ):\n",
    "    distribPorgenero = {}\n",
    "    for filme in cinemateca:\n",
    "        titulos, ano, elenco, generos = filme\n",
    "        for generoAux in generos:\n",
    "            if generoAux in distribPorgenero.keys():\n",
    "                distribPorgenero[generoAux] = distribPorgenero[generoAux] + 1\n",
    "            else:\n",
    "                distribPorgenero[generoAux] = 1\n",
    "    return distribPorgenero\n",
    "\n",
    "print(filmePorGenero(CineUM))\n"
   ]
  },
  {
   "cell_type": "code",
   "execution_count": 29,
   "metadata": {},
   "outputs": [
    {
     "data": {
      "image/png": "[encoded data removed]",
      "text/plain": [
       "<Figure size 640x480 with 1 Axes>"
      ]
     },
     "metadata": {},
     "output_type": "display_data"
    }
   ],
   "source": [
    "#tpc2.e)\n",
    "\n",
    "import matplotlib.pyplot as plt\n",
    "\n",
    "def grafico(distrib):\n",
    "    plt.bar(distrib.keys(), distrib.values(),color = ['blue','purple' ,'pink','lightgreen','yellow'])\n",
    "    plt.xticks([x for x in range(0, len(distrib.keys()))], distrib.keys(), rotation=45)\n",
    "    plt.title(\"Número de filmes por género\")\n",
    "    plt.show()\n",
    "    return\n",
    "\n",
    "grafico(filmePorGenero(CineUM))"
   ]
  },
  {
   "cell_type": "code",
   "execution_count": null,
   "metadata": {},
   "outputs": [],
   "source": []
  }
 ],
 "metadata": {
  "kernelspec": {
   "display_name": "Python 3.10.7 64-bit",
   "language": "python",
   "name": "python3"
  },
  "language_info": {
   "codemirror_mode": {
    "name": "ipython",
    "version": 3
   },
   "file_extension": ".py",
   "mimetype": "text/x-python",
   "name": "python",
   "nbconvert_exporter": "python",
   "pygments_lexer": "ipython3",
   "version": "3.10.7"
  },
  "orig_nbformat": 4,
  "vscode": {
   "interpreter": {
    "hash": "db580031ff1017c5155e817cf613da525792867ef294bb5b65e6030fd7764022"
   }
  }
 },
 "nbformat": 4,
 "nbformat_minor": 2
}
